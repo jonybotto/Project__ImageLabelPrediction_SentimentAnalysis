{
  "nbformat": 4,
  "nbformat_minor": 0,
  "metadata": {
    "colab": {
      "provenance": []
    },
    "kernelspec": {
      "name": "python3",
      "display_name": "Python 3"
    },
    "language_info": {
      "name": "python"
    }
  },
  "cells": [
    {
      "cell_type": "markdown",
      "source": [
        "# Designing a CNN Model for Image Label Prediction\n",
        "\n",
        "&nbsp;\n",
        "\n",
        "## 1. Introduction\n",
        "This is a university project where I am tasked with building a CNN model from scratch and training it on the provided training dataset, so as to be able to predict the labels for the also provided test dataset.\n",
        "\n",
        "&nbsp;\n",
        "\n",
        "### 1.1. Objectives\n",
        "Achieve a test accuracy > 75% on the test predictions.\n",
        "\n",
        "&nbsp;\n",
        "\n",
        "### 1.2. Source of the Data\n",
        "Datasets provided by the University.\n",
        "\n",
        "&nbsp;\n",
        "\n",
        "### 1.3. Datasets Description\n",
        "The file `data_cnnmodel/train_data.npy` includes 10k images, and the file `data_cnnmodel/train_labels.csv` the respective labels for that training dataset.\n",
        "\n",
        "Additionally, the `data_cnnmodel/test_data.npy` file includes also 10k images as the test set. Unfortunately, the test data labels were not provided to me, having the final test accuracy been evaluated on an online university submission platform.\n",
        "\n",
        "No more information on the data was given."
      ],
      "metadata": {
        "id": "25TVLBdJcONZ"
      }
    },
    {
      "cell_type": "markdown",
      "source": [
        "&nbsp;"
      ],
      "metadata": {
        "id": "3ksGUg_2lqKI"
      }
    },
    {
      "cell_type": "markdown",
      "source": [
        "## 2. Importing Libraries and Loading Data"
      ],
      "metadata": {
        "id": "g345xw_0js4S"
      }
    },
    {
      "cell_type": "code",
      "execution_count": null,
      "metadata": {
        "id": "zSNHtI2PSwnh"
      },
      "outputs": [],
      "source": [
        "import numpy as np\n",
        "import pandas as pd\n",
        "import matplotlib.pyplot as plt\n",
        "from sklearn.model_selection import train_test_split\n",
        "import torch\n",
        "from torch import nn, optim\n",
        "from torch.utils.data import TensorDataset, DataLoader\n",
        "from torch.optim.lr_scheduler import StepLR"
      ]
    },
    {
      "cell_type": "code",
      "source": [
        "# Loading training data\n",
        "data_train   = np.load('data_cnnmodel/train_data.npy')\n",
        "labels_train = np.load('data_cnnmodel/train_labels.npy')"
      ],
      "metadata": {
        "id": "O2FBCnnQiGjr"
      },
      "execution_count": null,
      "outputs": []
    },
    {
      "cell_type": "code",
      "execution_count": null,
      "metadata": {
        "id": "0Q9KYv6eSwnh",
        "colab": {
          "base_uri": "https://localhost:8080/"
        },
        "outputId": "553db811-3357-4be1-a9c3-7419f4d34282"
      },
      "outputs": [
        {
          "output_type": "execute_result",
          "data": {
            "text/plain": [
              "array([0, 1, 2, 3, 4, 5, 6, 7, 8, 9])"
            ]
          },
          "metadata": {},
          "execution_count": 23
        }
      ],
      "source": [
        "# Labels\n",
        "np.unique(labels_train)"
      ]
    },
    {
      "cell_type": "code",
      "execution_count": null,
      "metadata": {
        "id": "FXWpG2xESwnh",
        "colab": {
          "base_uri": "https://localhost:8080/",
          "height": 430
        },
        "outputId": "dc7717a9-5588-412f-af0b-8ccfe3a44aab"
      },
      "outputs": [
        {
          "output_type": "display_data",
          "data": {
            "text/plain": [
              "<Figure size 640x480 with 1 Axes>"
            ],
            "image/png": "[encoded data removed]"
          },
          "metadata": {}
        }
      ],
      "source": [
        "# Loading random training data example\n",
        "i = np.random.randint(0, len(data_train))\n",
        "plt.imshow(data_train[i].reshape(3, 32, 32).transpose(1, 2, 0))\n",
        "plt.show()"
      ]
    },
    {
      "cell_type": "code",
      "source": [
        "data_train.shape, labels_train.shape"
      ],
      "metadata": {
        "colab": {
          "base_uri": "https://localhost:8080/"
        },
        "id": "7Fk0dUnVS8jz",
        "outputId": "18f50800-ec02-4262-d01d-ef9ab72b8083"
      },
      "execution_count": null,
      "outputs": [
        {
          "output_type": "execute_result",
          "data": {
            "text/plain": [
              "((10000, 3072), (10000,))"
            ]
          },
          "metadata": {},
          "execution_count": 24
        }
      ]
    },
    {
      "cell_type": "markdown",
      "source": [
        "&nbsp;"
      ],
      "metadata": {
        "id": "MKuLCX6nmjxR"
      }
    },
    {
      "cell_type": "markdown",
      "source": [
        "## 3. Preparing the Data"
      ],
      "metadata": {
        "id": "_MDoxQNEmL8Y"
      }
    },
    {
      "cell_type": "code",
      "source": [
        "# Normalizing the data\n",
        "data_train = data_train / 255.0\n",
        "\n",
        "\n",
        "# Creating a validation set\n",
        "X_train, X_val, y_train, y_val = train_test_split(\n",
        "    data_train,\n",
        "    labels_train,\n",
        "    test_size=0.02,\n",
        "    random_state=7,\n",
        "    stratify=labels_train\n",
        ")\n",
        "\n",
        "\n",
        "# Creating training and validation datasets and loaders\n",
        "X_train = torch.tensor(X_train, dtype=torch.float32)\n",
        "X_train = X_train.view(-1, 3, 32, 32)\n",
        "\n",
        "X_val = torch.tensor(X_val, dtype=torch.float32)\n",
        "X_val = X_val.view(-1, 3, 32, 32)\n",
        "\n",
        "y_train = torch.tensor(y_train, dtype=torch.long)\n",
        "y_val = torch.tensor(y_val, dtype=torch.long)\n",
        "\n",
        "train_dataset = TensorDataset(X_train, y_train)\n",
        "train_loader = DataLoader(train_dataset, batch_size=32, shuffle=True, num_workers=2)\n",
        "\n",
        "val_dataset = TensorDataset(X_val, y_val)\n",
        "val_loader = DataLoader(val_dataset, batch_size=32, shuffle=False, num_workers=2)"
      ],
      "metadata": {
        "id": "wF7dveKMnZWJ"
      },
      "execution_count": null,
      "outputs": []
    },
    {
      "cell_type": "markdown",
      "source": [
        "&nbsp;"
      ],
      "metadata": {
        "id": "EDzmA0o8oFL6"
      }
    },
    {
      "cell_type": "markdown",
      "source": [
        "## 4. Creating and Instantiating the Model"
      ],
      "metadata": {
        "id": "7Gjerf-QoQ21"
      }
    },
    {
      "cell_type": "code",
      "source": [
        "# Creating the model\n",
        "class SimpleCNN(nn.Module):\n",
        "    def __init__(self):\n",
        "        super(SimpleCNN, self).__init__()\n",
        "        # First convolutional block\n",
        "        self.conv1 = nn.Conv2d(in_channels=3, out_channels=64, kernel_size=3, padding=1)  # each filter gets the shape (3, 3, 3), meaning that each filter will take into account the 3 input channels at the same time, summing the results appropriately and producing one output channel.\n",
        "        self.bn1 = nn.BatchNorm2d(64)  # we normalize each of the 64 channels to keep the input distribution more stable and allow for higher learning rates and smooth convergence of the algorithm\n",
        "\n",
        "        # Second convolutional block\n",
        "        self.conv2 = nn.Conv2d(64, 128, kernel_size=3, padding=1)\n",
        "        self.bn2 = nn.BatchNorm2d(128)\n",
        "\n",
        "        # Third convolutional block\n",
        "        self.conv3 = nn.Conv2d(128, 256, kernel_size=3, padding=1)\n",
        "        self.bn3 = nn.BatchNorm2d(256)\n",
        "\n",
        "        # Fourth convolutional block\n",
        "        self.conv4 = nn.Conv2d(256, 512, kernel_size=3, padding=1)\n",
        "        self.bn4 = nn.BatchNorm2d(512)\n",
        "\n",
        "        # ReLU\n",
        "        self.relu = nn.ReLU(inplace=True)\n",
        "\n",
        "        # Max pooling and dropout\n",
        "        self.pool = nn.MaxPool2d(2, 2)  # kernel_size=2, stride=2 --> no overlapping of the input features\n",
        "        self.dropout = nn.Dropout(0.1)\n",
        "\n",
        "        # Fully connected layers\n",
        "        self.fc1 = nn.Linear(512 * 4 * 4, 1024)  # Looking at the forward method, we have an architecture with 3 pooling functions, therefore the width and height get reduced in this way: 32 -> 16 -> 8 -> 4. Therefore, the shape of each batch sample is 512 (channels) * 4 (width) * 4 (height).\n",
        "        self.dropout_fc = nn.Dropout(0.5)\n",
        "        self.fc2 = nn.Linear(1024, 10)  # 10 output classes\n",
        "\n",
        "    def forward(self, x):\n",
        "        x = self.pool(self.relu(self.bn1(self.conv1(x))))  # Conv1 -> BN -> ReLU -> Pool\n",
        "        x = self.pool(self.relu(self.bn2(self.conv2(x))))\n",
        "        x = self.pool(self.relu(self.bn3(self.conv3(x))))\n",
        "        x = self.relu(self.bn4(self.conv4(x)))\n",
        "        x = self.dropout(x)  # Apply dropout after conv blocks\n",
        "        x = x.view(-1, 512 * 4 * 4)  # Flatten -> Fully connected layers in NN expect a 2D vector as input, but the output of the convolution and pooling layers is a 4D tensor (batch_size, channels, height, width). Therefore we need to flatten the tensor into a 2D vector (batch_size, features).\n",
        "        x = self.relu(self.fc1(x))\n",
        "        x = self.dropout_fc(x)  # Dropout in FC layer\n",
        "        x = self.fc2(x)\n",
        "        return x\n",
        "\n",
        "\n",
        "# Instantiating the model\n",
        "device = torch.device(\"cuda\" if torch.cuda.is_available() else \"cpu\")\n",
        "model = SimpleCNN().to(device)"
      ],
      "metadata": {
        "id": "gbHrOkj0m9OK"
      },
      "execution_count": null,
      "outputs": []
    },
    {
      "cell_type": "markdown",
      "source": [
        "&nbsp;"
      ],
      "metadata": {
        "id": "2uzHz93wofCm"
      }
    },
    {
      "cell_type": "markdown",
      "source": [
        "## 5. Defining the Loss Function and the Model's Hyperparameters"
      ],
      "metadata": {
        "id": "8I-OkRf8ogiX"
      }
    },
    {
      "cell_type": "code",
      "source": [
        "# Loss function, Optimizer, and Scheduler\n",
        "criterion = nn.CrossEntropyLoss().to(device)\n",
        "optimizer = optim.Adam(model.parameters(), lr=0.001, weight_decay=1e-5)\n",
        "scheduler = StepLR(optimizer, step_size=10, gamma=0.5)"
      ],
      "metadata": {
        "id": "WR_dVDoTnMca"
      },
      "execution_count": null,
      "outputs": []
    },
    {
      "cell_type": "markdown",
      "source": [
        "&nbsp;"
      ],
      "metadata": {
        "id": "WMfzyugtorV1"
      }
    },
    {
      "cell_type": "markdown",
      "source": [
        "## 6. Training and Evaluation"
      ],
      "metadata": {
        "id": "Zqn3MAr1os_h"
      }
    },
    {
      "cell_type": "code",
      "source": [
        "# Training and evaluating the model\n",
        "nr_epochs = 70\n",
        "\n",
        "for epoch in range(nr_epochs):\n",
        "    model.train()\n",
        "\n",
        "    running_loss = 0.0\n",
        "\n",
        "    for inputs, labels in train_loader:\n",
        "        inputs, labels = inputs.to(device), labels.to(device)\n",
        "\n",
        "        optimizer.zero_grad()\n",
        "        outputs = model(inputs)\n",
        "        loss = criterion(outputs, labels)\n",
        "        loss.backward()\n",
        "        optimizer.step()\n",
        "\n",
        "        running_loss += loss.item()\n",
        "\n",
        "    # Evaluating on validation set\n",
        "    model.eval()\n",
        "\n",
        "    correct = 0\n",
        "    total = 0\n",
        "\n",
        "    with torch.no_grad():\n",
        "        for data in val_loader:\n",
        "            images, labels = data\n",
        "            images, labels = images.to(device), labels.to(device)\n",
        "            outputs = model(images)\n",
        "            _, predicted = torch.max(outputs.data, 1)\n",
        "            total += labels.size(0)\n",
        "            correct += (predicted == labels).sum().item()\n",
        "\n",
        "    accuracy = 100 * correct / total\n",
        "\n",
        "    scheduler.step()\n",
        "\n",
        "    print(f'Epoch {epoch + 1}/{nr_epochs} --> Training Loss: {running_loss / len(train_loader):.3f} | Accuracy: {accuracy:.2f}%')"
      ],
      "metadata": {
        "colab": {
          "base_uri": "https://localhost:8080/"
        },
        "id": "c_hSeZczbgzx",
        "outputId": "f83c2348-fb3f-4eea-ff92-17b9ac057fcd"
      },
      "execution_count": null,
      "outputs": [
        {
          "output_type": "stream",
          "name": "stdout",
          "text": [
            "Epoch 1/70 --> Training Loss: 1.834 | Accuracy: 48.50%\n",
            "Epoch 2/70 --> Training Loss: 1.503 | Accuracy: 51.50%\n",
            "Epoch 3/70 --> Training Loss: 1.369 | Accuracy: 54.00%\n",
            "Epoch 4/70 --> Training Loss: 1.233 | Accuracy: 64.50%\n",
            "Epoch 5/70 --> Training Loss: 1.113 | Accuracy: 58.50%\n",
            "Epoch 6/70 --> Training Loss: 1.012 | Accuracy: 69.00%\n",
            "Epoch 7/70 --> Training Loss: 0.900 | Accuracy: 67.00%\n",
            "Epoch 8/70 --> Training Loss: 0.806 | Accuracy: 67.00%\n",
            "Epoch 9/70 --> Training Loss: 0.724 | Accuracy: 72.00%\n",
            "Epoch 10/70 --> Training Loss: 0.625 | Accuracy: 71.00%\n",
            "Epoch 11/70 --> Training Loss: 0.421 | Accuracy: 78.00%\n",
            "Epoch 12/70 --> Training Loss: 0.314 | Accuracy: 78.50%\n",
            "Epoch 13/70 --> Training Loss: 0.256 | Accuracy: 73.50%\n",
            "Epoch 14/70 --> Training Loss: 0.220 | Accuracy: 75.50%\n",
            "Epoch 15/70 --> Training Loss: 0.197 | Accuracy: 74.00%\n",
            "Epoch 16/70 --> Training Loss: 0.150 | Accuracy: 76.50%\n",
            "Epoch 17/70 --> Training Loss: 0.142 | Accuracy: 78.00%\n",
            "Epoch 18/70 --> Training Loss: 0.117 | Accuracy: 75.50%\n",
            "Epoch 19/70 --> Training Loss: 0.109 | Accuracy: 75.00%\n",
            "Epoch 20/70 --> Training Loss: 0.096 | Accuracy: 77.00%\n",
            "Epoch 21/70 --> Training Loss: 0.052 | Accuracy: 78.50%\n",
            "Epoch 22/70 --> Training Loss: 0.034 | Accuracy: 78.50%\n",
            "Epoch 23/70 --> Training Loss: 0.027 | Accuracy: 77.50%\n",
            "Epoch 24/70 --> Training Loss: 0.029 | Accuracy: 79.50%\n",
            "Epoch 25/70 --> Training Loss: 0.028 | Accuracy: 78.50%\n",
            "Epoch 26/70 --> Training Loss: 0.030 | Accuracy: 78.50%\n",
            "Epoch 27/70 --> Training Loss: 0.031 | Accuracy: 74.50%\n",
            "Epoch 28/70 --> Training Loss: 0.029 | Accuracy: 78.00%\n",
            "Epoch 29/70 --> Training Loss: 0.025 | Accuracy: 78.50%\n",
            "Epoch 30/70 --> Training Loss: 0.025 | Accuracy: 70.50%\n",
            "Epoch 31/70 --> Training Loss: 0.020 | Accuracy: 78.50%\n",
            "Epoch 32/70 --> Training Loss: 0.013 | Accuracy: 79.00%\n",
            "Epoch 33/70 --> Training Loss: 0.011 | Accuracy: 79.50%\n",
            "Epoch 34/70 --> Training Loss: 0.013 | Accuracy: 79.50%\n",
            "Epoch 35/70 --> Training Loss: 0.009 | Accuracy: 79.00%\n",
            "Epoch 36/70 --> Training Loss: 0.009 | Accuracy: 79.00%\n",
            "Epoch 37/70 --> Training Loss: 0.011 | Accuracy: 77.00%\n",
            "Epoch 38/70 --> Training Loss: 0.009 | Accuracy: 82.00%\n",
            "Epoch 39/70 --> Training Loss: 0.011 | Accuracy: 80.00%\n",
            "Epoch 40/70 --> Training Loss: 0.007 | Accuracy: 78.50%\n",
            "Epoch 41/70 --> Training Loss: 0.007 | Accuracy: 79.00%\n",
            "Epoch 42/70 --> Training Loss: 0.004 | Accuracy: 79.00%\n",
            "Epoch 43/70 --> Training Loss: 0.004 | Accuracy: 78.50%\n",
            "Epoch 44/70 --> Training Loss: 0.004 | Accuracy: 80.50%\n",
            "Epoch 45/70 --> Training Loss: 0.004 | Accuracy: 79.00%\n",
            "Epoch 46/70 --> Training Loss: 0.003 | Accuracy: 77.00%\n",
            "Epoch 47/70 --> Training Loss: 0.005 | Accuracy: 77.50%\n",
            "Epoch 48/70 --> Training Loss: 0.004 | Accuracy: 80.00%\n",
            "Epoch 49/70 --> Training Loss: 0.005 | Accuracy: 80.50%\n",
            "Epoch 50/70 --> Training Loss: 0.004 | Accuracy: 80.50%\n",
            "Epoch 51/70 --> Training Loss: 0.005 | Accuracy: 79.50%\n",
            "Epoch 52/70 --> Training Loss: 0.003 | Accuracy: 79.50%\n",
            "Epoch 53/70 --> Training Loss: 0.002 | Accuracy: 78.00%\n",
            "Epoch 54/70 --> Training Loss: 0.003 | Accuracy: 79.00%\n",
            "Epoch 55/70 --> Training Loss: 0.002 | Accuracy: 78.50%\n",
            "Epoch 56/70 --> Training Loss: 0.002 | Accuracy: 77.00%\n",
            "Epoch 57/70 --> Training Loss: 0.002 | Accuracy: 79.50%\n",
            "Epoch 58/70 --> Training Loss: 0.003 | Accuracy: 79.00%\n",
            "Epoch 59/70 --> Training Loss: 0.003 | Accuracy: 80.50%\n",
            "Epoch 60/70 --> Training Loss: 0.003 | Accuracy: 79.00%\n",
            "Epoch 61/70 --> Training Loss: 0.002 | Accuracy: 79.00%\n",
            "Epoch 62/70 --> Training Loss: 0.001 | Accuracy: 79.00%\n",
            "Epoch 63/70 --> Training Loss: 0.002 | Accuracy: 78.50%\n",
            "Epoch 64/70 --> Training Loss: 0.002 | Accuracy: 80.00%\n",
            "Epoch 65/70 --> Training Loss: 0.002 | Accuracy: 78.00%\n",
            "Epoch 66/70 --> Training Loss: 0.001 | Accuracy: 79.00%\n",
            "Epoch 67/70 --> Training Loss: 0.002 | Accuracy: 78.50%\n",
            "Epoch 68/70 --> Training Loss: 0.002 | Accuracy: 78.00%\n",
            "Epoch 69/70 --> Training Loss: 0.001 | Accuracy: 79.50%\n",
            "Epoch 70/70 --> Training Loss: 0.002 | Accuracy: 79.50%\n"
          ]
        }
      ]
    },
    {
      "cell_type": "markdown",
      "source": [
        "&nbsp;"
      ],
      "metadata": {
        "id": "Sgvl7h80o3hy"
      }
    },
    {
      "cell_type": "markdown",
      "source": [
        "## 7. Predictions"
      ],
      "metadata": {
        "id": "8VxJXLDFo4qp"
      }
    },
    {
      "cell_type": "code",
      "execution_count": null,
      "metadata": {
        "id": "Z0tbpeYZSwnh"
      },
      "outputs": [],
      "source": [
        "# Function to generate predictions\n",
        "def predict(model, loader):\n",
        "    preds = []\n",
        "    with torch.no_grad():\n",
        "        for seqs, _ in loader:\n",
        "            seqs = seqs.to(device)\n",
        "            outputs = model(seqs)\n",
        "            _, pred_classes = torch.max(outputs.data, 1)\n",
        "            preds.extend(pred_classes.squeeze().cpu().numpy())  # squeeze() removes all dimensions of size 1 from the tensor (so, like from (batch_size, 1) to (batch_size))\n",
        "    return np.array(preds)\n",
        "\n",
        "# Loading and setting up test data\n",
        "data_test = np.load('data_cnnmodel/test_data.npy') / 255.0\n",
        "data_test = torch.tensor(data_test, dtype=torch.float32)\n",
        "data_test = data_test.view(-1, 3, 32, 32)\n",
        "\n",
        "test_dataset = TensorDataset(data_test, torch.zeros(len(data_test)))\n",
        "loader_test = DataLoader(test_dataset, batch_size=32, shuffle=False, num_workers=2)\n",
        "\n",
        "# Predicting\n",
        "predictions = predict(model, loader_test)\n",
        "\n",
        "pd.DataFrame(predictions, columns=['prediction']).to_csv('submission.csv')"
      ]
    },
    {
      "cell_type": "markdown",
      "source": [
        "&nbsp;"
      ],
      "metadata": {
        "id": "sauh0C2tqMCW"
      }
    },
    {
      "cell_type": "markdown",
      "source": [
        "## 8. Conclusion\n",
        "Upon submitting the final predictions file to the online university submission platform, I obtained a pass, which meant that the objective of achieving an accuracy higher than 75% on the test predictions was achieved."
      ],
      "metadata": {
        "id": "OGXJKjrjqc6f"
      }
    },
    {
      "cell_type": "markdown",
      "source": [],
      "metadata": {
        "id": "GOr3TXOGq9PP"
      }
    }
  ]
}